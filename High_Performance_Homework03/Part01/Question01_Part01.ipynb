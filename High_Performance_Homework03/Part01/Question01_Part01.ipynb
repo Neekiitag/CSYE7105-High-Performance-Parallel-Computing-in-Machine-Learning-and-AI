{
  "nbformat": 4,
  "nbformat_minor": 0,
  "metadata": {
    "colab": {
      "provenance": []
    },
    "kernelspec": {
      "name": "python3",
      "display_name": "Python 3"
    },
    "language_info": {
      "name": "python"
    }
  },
  "cells": [
    {
      "cell_type": "markdown",
      "source": [
        "# **PART 1 - QUESTION01**\n",
        "\n",
        "Use Pool.apply() to get the row wise common items in list_a and list_b; and print the result. (5 pts)\n",
        "\n",
        "list_a = [[1, 2, 3], [5, 6, 7, 8], [10, 11, 12], [20, 21]]\n",
        "\n",
        "\n",
        "list_b = [[2, 3, 4, 5], [6, 9, 10], [11, 12, 13, 14], [21, 24, 25]]"
      ],
      "metadata": {
        "id": "206V2bFi5gc7"
      }
    },
    {
      "cell_type": "code",
      "execution_count": 28,
      "metadata": {
        "id": "Oz-0GxuSji3b"
      },
      "outputs": [],
      "source": [
        "#Importing necessary Libraries\n",
        "import multiprocessing as mp "
      ]
    },
    {
      "cell_type": "code",
      "source": [
        "def common (a, b):\n",
        "    list=set(a).intersection(b)\n",
        "    return list"
      ],
      "metadata": {
        "id": "ySfT2GvQjqzf"
      },
      "execution_count": 29,
      "outputs": []
    },
    {
      "cell_type": "code",
      "source": [
        "pool = mp.Pool(mp.cpu_count())\n",
        "list_a = [[1, 2, 3], [5, 6, 7, 8], [10, 11, 12], [20, 21]]\n",
        "list_b = [[2, 3, 4, 5], [6, 9, 10], [11, 12, 13, 14], [21, 24, 25]]"
      ],
      "metadata": {
        "id": "2909UNNkjxFf"
      },
      "execution_count": 30,
      "outputs": []
    },
    {
      "cell_type": "code",
      "source": [
        "result = [pool.apply(common,args=(a, b)) for a, b in zip(list_a, list_b)] "
      ],
      "metadata": {
        "id": "fDwBhhuvj0Cx"
      },
      "execution_count": 31,
      "outputs": []
    },
    {
      "cell_type": "code",
      "source": [
        "pool.close()"
      ],
      "metadata": {
        "id": "WO_9HPqij2gP"
      },
      "execution_count": 32,
      "outputs": []
    },
    {
      "cell_type": "code",
      "source": [
        "print(\"Common items in the given lists are: \\n\")\n",
        "print (result)"
      ],
      "metadata": {
        "colab": {
          "base_uri": "https://localhost:8080/"
        },
        "id": "S0fmLob1j31c",
        "outputId": "40cdc64e-4a64-4bd6-f1f5-b792b0341e18"
      },
      "execution_count": 33,
      "outputs": [
        {
          "output_type": "stream",
          "name": "stdout",
          "text": [
            "Common items in the given lists are: \n",
            "\n",
            "[{2, 3}, {6}, {11, 12}, {21}]\n"
          ]
        }
      ]
    },
    {
      "cell_type": "code",
      "source": [],
      "metadata": {
        "id": "RFEW5tXXj6O4"
      },
      "execution_count": 33,
      "outputs": []
    }
  ]
}